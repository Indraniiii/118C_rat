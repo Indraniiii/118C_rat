{
 "cells": [
  {
   "cell_type": "markdown",
   "metadata": {},
   "source": [
    "#"
   ]
  },
  {
   "cell_type": "markdown",
   "metadata": {},
   "source": [
    "# COGS 118C Final Project - Jupyter Notebook analysis\n",
    "## Analyzing differing frequencies bands’ contributions to wake v. sleep states in rats\n",
    "\n",
    "Calixto Calangi\n",
    "\n",
    "Valerie Ortiz \n",
    "\n",
    "Indrani Vairagare   "
   ]
  },
  {
   "cell_type": "markdown",
   "metadata": {},
   "source": [
    "### Setup"
   ]
  },
  {
   "cell_type": "code",
   "execution_count": 1,
   "metadata": {},
   "outputs": [],
   "source": [
    "### code imported for conducting analysis ###\n",
    "\n",
    "#We need to utilize SciPy io to read the .mat file of the data\n",
    "#Since we're going to perform power spectral density and plotting them, we will be utilizing\n",
    "#NumPy and Matplotlib\n",
    "\n",
    "from scipy import io\n",
    "import numpy as np\n",
    "import matplotlib.pyplot as plt"
   ]
  },
  {
   "cell_type": "code",
   "execution_count": 4,
   "metadata": {},
   "outputs": [
    {
     "name": "stdout",
     "output_type": "stream",
     "text": [
      "dict_keys(['__header__', '__version__', '__globals__', 'cells_wake', 'cells_sleep', 'lfp_wake', 'lfp_sleep', 't_wake', 't_sleep', 'cell_info', 'fs'])\n"
     ]
    }
   ],
   "source": [
    "#We want to load the rat LFP file using io\n",
    "rat_data = io.loadmat('LFP_rat.mat', squeeze_me = True)\n",
    "\n",
    "#Since we want to look at the sleep v. wake states, we want to look\n",
    "#at the header/dictionary keys\n",
    "print(rat_data.keys())"
   ]
  },
  {
   "cell_type": "code",
   "execution_count": null,
   "metadata": {},
   "outputs": [],
   "source": []
  }
 ],
 "metadata": {
  "kernelspec": {
   "display_name": "Python 3",
   "language": "python",
   "name": "python3"
  },
  "language_info": {
   "codemirror_mode": {
    "name": "ipython",
    "version": 3
   },
   "file_extension": ".py",
   "mimetype": "text/x-python",
   "name": "python",
   "nbconvert_exporter": "python",
   "pygments_lexer": "ipython3",
   "version": "3.11.2"
  }
 },
 "nbformat": 4,
 "nbformat_minor": 2
}
