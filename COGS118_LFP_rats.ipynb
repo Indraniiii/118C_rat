{
 "cells": [
  {
   "cell_type": "markdown",
   "metadata": {},
   "source": [
    "#"
   ]
  },
  {
   "cell_type": "markdown",
   "metadata": {},
   "source": [
    "# COGS 118C Final Project - Jupyter Notebook analysis\n",
    "## Analyzing differing frequencies bands’ contributions to wake v. sleep states in rats\n",
    "\n",
    "Calixto Calangi\n",
    "\n",
    "Valerie Ortiz \n",
    "\n",
    "Indrani Vairagare   "
   ]
  },
  {
   "cell_type": "code",
   "execution_count": null,
   "metadata": {},
   "outputs": [],
   "source": [
    "### code imported for conducting analysis ###\n"
   ]
  }
 ],
 "metadata": {
  "language_info": {
   "name": "python"
  }
 },
 "nbformat": 4,
 "nbformat_minor": 2
}
